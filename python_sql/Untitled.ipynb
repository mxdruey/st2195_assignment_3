{
 "cells": [
  {
   "cell_type": "code",
   "execution_count": 18,
   "metadata": {},
   "outputs": [
    {
     "name": "stdout",
     "output_type": "stream",
     "text": [
      "Collecting gcc\n",
      "\u001b[31m  ERROR: Could not find a version that satisfies the requirement gcc (from versions: none)\u001b[0m\n",
      "\u001b[31mERROR: No matching distribution found for gcc\u001b[0m\n"
     ]
    }
   ],
   "source": [
    "#! pip install --user numpy\n",
    "#! pip install --user pandas\n",
    "!pip install gcc"
   ]
  },
  {
   "cell_type": "code",
   "execution_count": 1,
   "metadata": {},
   "outputs": [],
   "source": [
    "import os \n",
    "try:\n",
    "    os.remove('airline2.db')\n",
    "except OSError:\n",
    "    pass"
   ]
  },
  {
   "cell_type": "code",
   "execution_count": 2,
   "metadata": {},
   "outputs": [],
   "source": [
    "import sqlite3\n",
    "conn = sqlite3.connect('airline2.db')"
   ]
  },
  {
   "cell_type": "code",
   "execution_count": 15,
   "metadata": {},
   "outputs": [
    {
     "ename": "SyntaxError",
     "evalue": "invalid syntax (<ipython-input-15-6341c2e5513a>, line 1)",
     "output_type": "error",
     "traceback": [
      "\u001b[0;36m  File \u001b[0;32m\"<ipython-input-15-6341c2e5513a>\"\u001b[0;36m, line \u001b[0;32m1\u001b[0m\n\u001b[0;31m    from \"/usr/local/lib/python3.8/dist-packages\" import pandas as pd\u001b[0m\n\u001b[0m                                                ^\u001b[0m\n\u001b[0;31mSyntaxError\u001b[0m\u001b[0;31m:\u001b[0m invalid syntax\n"
     ]
    }
   ],
   "source": [
    "from \"/usr/local/lib/python3.8/dist-packages\" import pandas as pd\n",
    "\n",
    "#ontime = pd.read_csv(r\"/home/max/LSE/DB_local_only/dataverse_files/2000.csv\")\n",
    "#airports = pd.read_csv(r\"/home/max/LSE/DB_local_only/dataverse_files/airports.csv\")\n",
    "#carriers = pd.read_csv(r\"/home/max/LSE/DB_local_only/dataverse_files/carriers.csv\")\n",
    "planes = pd.read_csv(r\"/home/max/LSE/DB_local_only/dataverse_files/plane-data.csv\")"
   ]
  },
  {
   "cell_type": "code",
   "execution_count": null,
   "metadata": {},
   "outputs": [],
   "source": [
    "pd.DataFrame(planes)"
   ]
  }
 ],
 "metadata": {
  "kernelspec": {
   "display_name": "Python 3",
   "language": "python",
   "name": "python3"
  },
  "language_info": {
   "codemirror_mode": {
    "name": "ipython",
    "version": 3
   },
   "file_extension": ".py",
   "mimetype": "text/x-python",
   "name": "python",
   "nbconvert_exporter": "python",
   "pygments_lexer": "ipython3",
   "version": "3.7.3"
  }
 },
 "nbformat": 4,
 "nbformat_minor": 2
}
