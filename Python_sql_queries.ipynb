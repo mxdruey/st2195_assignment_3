{
 "cells": [
  {
   "cell_type": "code",
   "execution_count": 1,
   "id": "73be1d6a",
   "metadata": {},
   "outputs": [],
   "source": [
    "import sqlite3\n",
    "from sqlite3 import Error\n",
    "import csv as csv\n",
    "import pandas as pd"
   ]
  },
  {
   "cell_type": "code",
   "execution_count": 6,
   "id": "25e8a7df",
   "metadata": {},
   "outputs": [],
   "source": [
    "con = sqlite3.connect('/home/max/LSE/DB_local_only/airlines2.db')"
   ]
  },
  {
   "cell_type": "code",
   "execution_count": 11,
   "id": "0561d418",
   "metadata": {},
   "outputs": [],
   "source": [
    "db_df = pd.read_sql_query(\"\"\"SELECT airports.city AS city, COUNT(*) AS total\n",
    "\n",
    "FROM airports JOIN ontime ON ontime.dest = airports.iata\n",
    "\n",
    "WHERE ontime.Cancelled = 0\n",
    "\n",
    "GROUP BY airports.city\n",
    "\n",
    "ORDER BY total DESC\"\"\", con)\n",
    "db_df.to_csv('/home/max/LSE/st2195_assignment_3/python_sql/airlines_query_1.csv', index=False)"
   ]
  },
  {
   "cell_type": "code",
   "execution_count": 12,
   "id": "139a33de",
   "metadata": {},
   "outputs": [],
   "source": [
    "db_df = pd.read_sql_query(\"\"\"SELECT carriers.Description AS carrier, COUNT(*) AS total\n",
    "\n",
    "FROM carriers JOIN ontime ON ontime.UniqueCarrier = carriers.Code\n",
    "\n",
    "WHERE ontime.Cancelled = 1\n",
    "\n",
    "    AND carriers.Description IN ('United Air Lines Inc.', 'American Airlines Inc.', 'Pinnacle Airlines Inc.', 'Delta Air Lines Inc.')\n",
    "\n",
    "GROUP BY carriers.Description\n",
    "\n",
    "ORDER BY total DESC\"\"\", con)\n",
    "db_df.to_csv('/home/max/LSE/st2195_assignment_3/python_sql/airlines_query_2.csv', index=False)"
   ]
  },
  {
   "cell_type": "code",
   "execution_count": 16,
   "id": "dcf836db",
   "metadata": {},
   "outputs": [],
   "source": [
    "db_df = pd.read_sql_query(\"\"\"SELECT model AS model, AVG(ontime.DepDelay) AS avg_delay\n",
    "\n",
    "FROM planes JOIN ontime USING(tailnum)\n",
    "\n",
    "WHERE ontime.Cancelled = 0 AND ontime.Diverted = 0 AND ontime.DepDelay > 0\n",
    "\n",
    "GROUP BY model\n",
    "\n",
    "ORDER BY avg_delay\"\"\", con)\n",
    "db_df.to_csv('/home/max/LSE/st2195_assignment_3/python_sql/airlines_query_3.csv', index=False)"
   ]
  },
  {
   "cell_type": "code",
   "execution_count": 17,
   "id": "cf0c1626",
   "metadata": {},
   "outputs": [],
   "source": [
    "db_df = pd.read_sql_query(\"\"\"SELECT\n",
    "\n",
    "    q1.carrier AS carrier, (CAST(q1.numerator AS FLOAT)/ CAST(q2.denominator AS FLOAT)) AS ratio\n",
    "\n",
    "FROM\n",
    "\n",
    "(\n",
    "\n",
    "    SELECT carriers.Description AS carrier, COUNT(*) AS numerator\n",
    "\n",
    "    FROM carriers JOIN ontime ON ontime.UniqueCarrier = carriers.Code\n",
    "\n",
    "    WHERE ontime.Cancelled = 1 AND carriers.Description IN ('United Air Lines Inc.', 'American Airlines Inc.', 'Pinnacle Airlines Inc.', 'Delta Air Lines Inc.')\n",
    "\n",
    "    GROUP BY carriers.Description\n",
    "\n",
    ") AS q1 JOIN\n",
    "\n",
    "(\n",
    "\n",
    "    SELECT carriers.Description AS carrier, COUNT(*) AS denominator\n",
    "\n",
    "    FROM carriers JOIN ontime ON ontime.UniqueCarrier = carriers.Code\n",
    "\n",
    "    WHERE carriers.Description IN ('United Air Lines Inc.', 'American Airlines Inc.', 'Pinnacle Airlines Inc.', 'Delta Air Lines Inc.')\n",
    "\n",
    "    GROUP BY carriers.Description\n",
    "\n",
    ") AS q2 USING(carrier)\n",
    "\n",
    "ORDER BY ratio DESC\"\"\", con)\n",
    "db_df.to_csv('/home/max/LSE/st2195_assignment_3/python_sql/airlines_query_4.csv', index=False)"
   ]
  },
  {
   "cell_type": "code",
   "execution_count": null,
   "id": "a551dc49",
   "metadata": {},
   "outputs": [],
   "source": []
  }
 ],
 "metadata": {
  "kernelspec": {
   "display_name": "Python 3 (ipykernel)",
   "language": "python",
   "name": "python3"
  },
  "language_info": {
   "codemirror_mode": {
    "name": "ipython",
    "version": 3
   },
   "file_extension": ".py",
   "mimetype": "text/x-python",
   "name": "python",
   "nbconvert_exporter": "python",
   "pygments_lexer": "ipython3",
   "version": "3.8.10"
  }
 },
 "nbformat": 4,
 "nbformat_minor": 5
}
